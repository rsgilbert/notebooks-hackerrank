{
 "cells": [
  {
   "cell_type": "code",
   "execution_count": 1,
   "metadata": {},
   "outputs": [],
   "source": [
    "# bracelet challenge"
   ]
  },
  {
   "cell_type": "code",
   "execution_count": 395,
   "metadata": {},
   "outputs": [
    {
     "name": "stdout",
     "output_type": "stream",
     "text": [
      "2\n",
      "3\n",
      "4\n",
      "1\n",
      "0.022410300000046846\n"
     ]
    }
   ],
   "source": [
    "from itertools import *\n",
    "def alerts4(distances, d):\n",
    "    notifications = 0\n",
    "    if d % 2 == 0:\n",
    "        for (idx, distance) in enumerate(islice(distances, d, len(distances))):\n",
    "            idx_1 = int((idx + d) - d / 2) \n",
    "            idx_2 = idx_1 - 1\n",
    "            med = (distances[idx_1]  + distances[idx_2]) / 2\n",
    "            print(med)\n",
    "            if distance >= 2 * med:\n",
    "                notifications += 1\n",
    "    else:\n",
    "          for (idx, distance) in enumerate(islice(distances, d, len(distances))):\n",
    "            med_idx = int((idx + d) - d / 2) \n",
    "            med = distances[med_idx] \n",
    "            print(med)\n",
    "            if distance >= 2 * med:\n",
    "                notifications += 1\n",
    "    print(notifications)\n",
    "    return notifications\n",
    "time(alerts4([1, 2, 3, 4, 5, 6], 3))"
   ]
  },
  {
   "cell_type": "code",
   "execution_count": null,
   "metadata": {},
   "outputs": [],
   "source": [
    "from itertools import *\n",
    "def alerts2(distances, d):\n",
    "    notifications = 0\n",
    "    if d % 2 == 0:\n",
    "        for (idx, distance) in enumerate(islice(distances, d, len(distances))):\n",
    "            idx_1 = int((idx + d) - d / 2) \n",
    "            idx_2 = idx_1 - 1\n",
    "            med = (distances[idx_1]  + distances[idx_2]) / 2\n",
    "            if distance >= 2 * med:\n",
    "                notifications += 1\n",
    "    else:\n",
    "          for (idx, distance) in enumerate(islice(distances, d, len(distances))):\n",
    "            med_idx = int((idx + d) - d / 2) \n",
    "            med = distances[med_idx] \n",
    "            if distance >= 2 * med:\n",
    "                notifications += 1\n",
    "    print(notifications)\n",
    "    return notifications\n",
    "time(alerts2([1, 2, 3,  4, 5], 3))"
   ]
  },
  {
   "cell_type": "code",
   "execution_count": 232,
   "metadata": {},
   "outputs": [],
   "source": [
    "# from statistics import median\n",
    "from sortedcontainers import SortedList\n",
    "def alerts(distances, d):\n",
    "    notifications = 0\n",
    "    trailing_list = deque(distances[:d])\n",
    "    for distance in distances[d:]:\n",
    "        med = trailing_list.sort()\n",
    "        if distance >= 2 * med:\n",
    "            notifications += 1\n",
    "        trailing_list.append(distance)\n",
    "        trailing_list.popleft()\n",
    "    return notifications"
   ]
  },
  {
   "cell_type": "code",
   "execution_count": 233,
   "metadata": {},
   "outputs": [
    {
     "name": "stdout",
     "output_type": "stream",
     "text": [
      "0.014601000002585351\n"
     ]
    }
   ],
   "source": [
    "time(alerts([1, 2, 3,  4, 5, 6,7, 25, 45], 3))"
   ]
  },
  {
   "cell_type": "code",
   "execution_count": 168,
   "metadata": {},
   "outputs": [
    {
     "name": "stdout",
     "output_type": "stream",
     "text": [
      "2\n",
      "3\n",
      "4\n",
      "5\n",
      "6\n",
      "2\n",
      "0.018410300000141433\n"
     ]
    }
   ],
   "source": [
    "time(alerts([1, 2, 3,  4, 5, 6,7, 25, 45], 3))"
   ]
  },
  {
   "cell_type": "code",
   "execution_count": 209,
   "metadata": {},
   "outputs": [],
   "source": [
    "from timeit import timeit\n",
    "def time(stmt):\n",
    "    print(timeit(stmt = f'{stmt}', globals=globals(), number=1000000))"
   ]
  },
  {
   "cell_type": "code",
   "execution_count": 229,
   "metadata": {},
   "outputs": [],
   "source": [
    "from sortedcontainers import SortedList\n",
    "def alerts3(distances, d):\n",
    "    notifications = 0\n",
    "    sorted_list = SortedList(islice(distances, d)) \n",
    "    if d % 2 == 0:\n",
    "        med_idx_1 = int(d / 2) - 1\n",
    "        med_idx_2 = med_idx_1 + 1\n",
    "        for (idx, distance) in enumerate(islice(distances, d, len(distances) - 1)):\n",
    "            med = (sorted_list[med_idx_1] + sorted_list[med_idx_2]) / 2\n",
    "            if distance >= 2 * med:\n",
    "                notifications += 1\n",
    "            sorted_list.add(distance)   \n",
    "            sorted_list.remove(distances[idx])\n",
    "    else:\n",
    "        med_idx = int(d / 2)\n",
    "        for (idx, distance) in enumerate(islice(distances, d, len(distances) - 1)):  \n",
    "            med = sorted_list[med_idx] \n",
    "            if distance >= 2 * med:\n",
    "                notifications += 1\n",
    "            sorted_list.add(distance)   \n",
    "            sorted_list.remove(distances[idx])\n",
    "    print(notifications)\n",
    "    return notifications\n"
   ]
  },
  {
   "cell_type": "code",
   "execution_count": 230,
   "metadata": {},
   "outputs": [
    {
     "name": "stdout",
     "output_type": "stream",
     "text": [
      "1\n",
      "0.015787500000442378\n"
     ]
    }
   ],
   "source": [
    "# alerts3([1, 2, 3, 4, 5], 3)\n",
    "time(alerts3([1, 2, 3,  4, 5], 3))"
   ]
  },
  {
   "cell_type": "code",
   "execution_count": 231,
   "metadata": {},
   "outputs": [
    {
     "name": "stdout",
     "output_type": "stream",
     "text": [
      "1\n",
      "0.014443100000789855\n"
     ]
    }
   ],
   "source": [
    "time(alerts2([1, 2, 3,  4, 5], 4))"
   ]
  },
  {
   "cell_type": "code",
   "execution_count": 29,
   "metadata": {},
   "outputs": [],
   "source": [
    "def group(lst, d):\n",
    "    k_size = len(lst) - (d - 1)\n",
    "    k = [[] for _ in range(k_size)]  # [[], [], [], [], []]\n",
    "    for idx, item in enumerate(lst): # idx = 6, item = 7\n",
    "        for i in range(d): # i = 2\n",
    "            try:\n",
    "                ind = idx - i\n",
    "                if ind >= 0:\n",
    "                    k[idx - i].append(item)\n",
    "            except IndexError:\n",
    "                continue\n",
    "    return k"
   ]
  },
  {
   "cell_type": "code",
   "execution_count": 234,
   "metadata": {},
   "outputs": [],
   "source": [
    "a = deque([1, 2])"
   ]
  },
  {
   "cell_type": "code",
   "execution_count": 337,
   "metadata": {},
   "outputs": [],
   "source": [
    "def group2(lst, d):\n",
    "    k_size = len(lst) - (d - 1)\n",
    "    k = [[] for _ in range(k_size)]  # [[], [], [], [], []]\n",
    "    for idx, item in enumerate(lst): # idx = 6, item = 7\n",
    "        for i in range(d): # i = 2\n",
    "            try:\n",
    "                ind = idx - i\n",
    "                if ind >= 0:\n",
    "                    k[ind].append(item)\n",
    "            except IndexError:\n",
    "                continue\n",
    "    return k"
   ]
  },
  {
   "cell_type": "code",
   "execution_count": 338,
   "metadata": {},
   "outputs": [
    {
     "name": "stdout",
     "output_type": "stream",
     "text": [
      "0.24823430000105873\n"
     ]
    }
   ],
   "source": [
    "time(group2([1, 2, 3, 4, 5, 6], 4))"
   ]
  },
  {
   "cell_type": "code",
   "execution_count": 268,
   "metadata": {},
   "outputs": [
    {
     "name": "stdout",
     "output_type": "stream",
     "text": [
      "0.9172526999973343\n"
     ]
    }
   ],
   "source": [
    "time(group2([1, 2, 3, 4, 5, 6], 4))"
   ]
  },
  {
   "cell_type": "code",
   "execution_count": 257,
   "metadata": {},
   "outputs": [],
   "source": [
    "def activityAlerts(distances, d):\n",
    "    notifications = 0\n",
    "    groups = group(distances, d)\n",
    "    for idx, g in enumerate(groups):\n",
    "        med = median(g)\n",
    "        try:\n",
    "            dist = groups[idx + 1][-1]\n",
    "            if dist >= 2 * med:\n",
    "                notifications += 1\n",
    "        except IndexError:\n",
    "            pass\n",
    "    return notifications"
   ]
  },
  {
   "cell_type": "code",
   "execution_count": 272,
   "metadata": {},
   "outputs": [
    {
     "data": {
      "text/plain": [
       "[1, 2, 2, 3, 5]"
      ]
     },
     "execution_count": 272,
     "metadata": {},
     "output_type": "execute_result"
    }
   ],
   "source": [
    "a = deque([1, 2, 5,2, 3])\n",
    "sorted(a)"
   ]
  },
  {
   "cell_type": "code",
   "execution_count": 259,
   "metadata": {},
   "outputs": [
    {
     "name": "stdout",
     "output_type": "stream",
     "text": [
      "0.013270900002680719\n"
     ]
    }
   ],
   "source": [
    "time(activityAlerts([1, 2, 3, 4, 5, 6, 4, 5, 6, 4, 5, 6, 4, 5, 6], 4))"
   ]
  },
  {
   "cell_type": "code",
   "execution_count": 381,
   "metadata": {},
   "outputs": [
    {
     "name": "stdout",
     "output_type": "stream",
     "text": [
      "0.014765299994905945\n"
     ]
    }
   ],
   "source": [
    "time(alerts([1, 2, 3, 4, 5, 6, 4, 5, 6, 4, 5, 6, 4, 5, 6], 4))"
   ]
  },
  {
   "cell_type": "code",
   "execution_count": 385,
   "metadata": {},
   "outputs": [],
   "source": [
    "from collections import defaultdict\n",
    "def genLists(lst, d):\n",
    "    x = defaultdict(list)\n",
    "    for idx, _ in enumerate(lst[:-(d)]):\n",
    "        x[idx] = lst[idx: idx + d]\n",
    "    return x\n"
   ]
  },
  {
   "cell_type": "code",
   "execution_count": 427,
   "metadata": {},
   "outputs": [],
   "source": [
    "def acts(distances, d):\n",
    "    notifications = 0\n",
    "    groups = genLists(distances, d)\n",
    "    try:\n",
    "        if d % 2 == 0:\n",
    "            med_idx_1 = int(d / 2) - 1\n",
    "            med_idx_2 = med_idx_1 + 1\n",
    "            for i, g in groups.items():\n",
    "                g.sort()\n",
    "                med = (g[med_idx_1] + g[med_idx_2]) / 2\n",
    "                if groups[i+1][-1] >= 2 * med:\n",
    "                    notifications += 1\n",
    "        else:\n",
    "            med_idx = int(d / 2)\n",
    "            for i, g in groups.items():\n",
    "                g.sort()\n",
    "                med = g[med_idx]\n",
    "                if groups[i+1][-1] >= 2 * med:\n",
    "                    notifications += 1\n",
    "    except:\n",
    "        pass\n",
    "    print(notifications)\n",
    "    return notifications"
   ]
  },
  {
   "cell_type": "code",
   "execution_count": 431,
   "metadata": {},
   "outputs": [
    {
     "name": "stdout",
     "output_type": "stream",
     "text": [
      "3\n",
      "7\n",
      "0.015243100002408028\n"
     ]
    }
   ],
   "source": [
    "acts([1, 2, 3, 4, 15, 35, 40, 4, 15, 35, 40, 4, 15, 35, 40, 23], 4)\n",
    "time(acts([1, 2, 3, 4, 5, 6, 4, 15, 35, 40, 4, 15, 35, 40, 4, 15, 35, 40,], 3))"
   ]
  },
  {
   "cell_type": "code",
   "execution_count": 443,
   "metadata": {},
   "outputs": [],
   "source": [
    "import heapq\n",
    "from collections import defaultdict\n",
    "\n",
    "\n",
    "class Value(object):\n",
    "    def __init__(self, val):\n",
    "        self.val = val\n",
    "        self.deleted = False\n",
    "\n",
    "    def __neg__(self):\n",
    "        \"\"\"\n",
    "        negate without creating new instance\n",
    "        \"\"\"\n",
    "        self.val = -self.val\n",
    "        return self\n",
    "\n",
    "    def __cmp__(self, other):\n",
    "        assert isinstance(other, Value)\n",
    "        return self.val - other.val\n",
    "\n",
    "    def __repr__(self):\n",
    "        return repr(self.val)\n",
    "\n",
    "\n",
    "class Heap(object):\n",
    "    def __init__(self):\n",
    "        self.h = []\n",
    "        self.len = 0\n",
    "\n",
    "    def push(self, t):\n",
    "        heapq.heappush(self.h, t)\n",
    "        self.len += 1\n",
    "\n",
    "    def pop(self):\n",
    "        \"\"\"\n",
    "        :return: the top item\n",
    "        \"\"\"\n",
    "        self._clean_top()\n",
    "        self.len -= 1\n",
    "\n",
    "        return heapq.heappop(self.h)\n",
    "\n",
    "    def remove(self, t):\n",
    "        \"\"\"\n",
    "        lazy remove\n",
    "        :param t:\n",
    "        :return:\n",
    "        \"\"\"\n",
    "        t.deleted = True\n",
    "        self.len -= 1\n",
    "\n",
    "    def __len__(self):\n",
    "        return self.len\n",
    "\n",
    "    def _clean_top(self):\n",
    "        while self.h and self.h[0].deleted:\n",
    "            heapq.heappop(self.h)\n",
    "\n",
    "    def peek(self):\n",
    "        self._clean_top()\n",
    "        return self.h[0]\n",
    "\n",
    "    def __repr__(self):\n",
    "        return repr(self.h)\n",
    "\n",
    "\n",
    "class DualHeap(object):\n",
    "    def __init__(self):\n",
    "        self.min_h = Heap()  # represent right side\n",
    "        self.max_h = Heap()  # represent left side\n",
    "\n",
    "    def _rebalance(self):\n",
    "        r = len(self.min_h)\n",
    "        l = len(self.max_h)\n",
    "        if abs(l-r) <= 1:\n",
    "            return\n",
    "\n",
    "        if r > l:\n",
    "            self.max_h.push(-self.min_h.pop())\n",
    "        else:\n",
    "            self.min_h.push(-self.max_h.pop())\n",
    "\n",
    "        self._rebalance()\n",
    "\n",
    "    def add(self, t):\n",
    "        if len(self.min_h) > 0 and t > self.min_h.peek():\n",
    "            self.min_h.push(t)\n",
    "        else:\n",
    "            self.max_h.push(-t)\n",
    "\n",
    "        self._rebalance()\n",
    "\n",
    "    def remove(self, t):\n",
    "        if len(self.min_h) > 0 and t >= self.min_h.peek():\n",
    "            self.min_h.remove(t)\n",
    "        else:\n",
    "            self.max_h.remove(t)\n",
    "\n",
    "        self._rebalance()\n",
    "\n",
    "    def median(self):\n",
    "        r = len(self.min_h)\n",
    "        l = len(self.max_h)\n",
    "        if r > l:\n",
    "            return self.min_h.peek().val\n",
    "        else:\n",
    "            return -self.max_h.peek().val\n",
    "\n",
    "    def __repr__(self):\n",
    "        return repr(self.max_h)+repr(self.min_h)\n",
    "\n",
    "class Solution:\n",
    "    \"\"\"\n",
    "    @param nums: A list of integers.\n",
    "    @return: The median of element inside the window at each moving.\n",
    "    \"\"\"\n",
    "    def medianSlidingWindow(self, nums, k):\n",
    "        # write your code here\n",
    "        nums = map(lambda x: Value(x), nums)\n",
    "        if len(nums) < 1:\n",
    "            return []\n",
    "\n",
    "        ret = []\n",
    "        dh = DualHeap()\n",
    "        for i in xrange(k):\n",
    "            dh.add(nums[i])\n",
    "        ret.append(dh.median())\n",
    "\n",
    "        for i in xrange(k, len(nums)):\n",
    "            dh.remove(nums[i-k])\n",
    "            dh.add(nums[i])\n",
    "            ret.append(dh.median())\n",
    "\n",
    "        return ret"
   ]
  },
  {
   "cell_type": "code",
   "execution_count": 446,
   "metadata": {},
   "outputs": [],
   "source": [
    "def medianSlidingWindow(nums, k):\n",
    "        # write your code here\n",
    "        nums = list(map(lambda x: Value(x), nums))\n",
    "        if len(nums) < 1:\n",
    "            return []\n",
    "        ret = []\n",
    "        dh = DualHeap()\n",
    "        for i in xrange(k):\n",
    "            dh.add(nums[i])\n",
    "        ret.append(dh.median())\n",
    "\n",
    "        for i in xrange(k, len(nums)):\n",
    "            dh.remove(nums[i-k])\n",
    "            dh.add(nums[i])\n",
    "            ret.append(dh.median())\n",
    "\n",
    "        return ret\n",
    "# s.medianSlidingWindow(s, [1, 2, 3, 4], 3)"
   ]
  },
  {
   "cell_type": "code",
   "execution_count": 447,
   "metadata": {},
   "outputs": [
    {
     "ename": "NameError",
     "evalue": "name 'xrange' is not defined",
     "output_type": "error",
     "traceback": [
      "\u001b[1;31m---------------------------------------------------------------------------\u001b[0m",
      "\u001b[1;31mNameError\u001b[0m                                 Traceback (most recent call last)",
      "\u001b[1;32m<ipython-input-447-c1c2f65fbd8f>\u001b[0m in \u001b[0;36m<module>\u001b[1;34m\u001b[0m\n\u001b[1;32m----> 1\u001b[1;33m \u001b[0mmedianSlidingWindow\u001b[0m\u001b[1;33m(\u001b[0m\u001b[1;33m[\u001b[0m\u001b[1;36m1\u001b[0m\u001b[1;33m,\u001b[0m \u001b[1;36m2\u001b[0m\u001b[1;33m,\u001b[0m \u001b[1;36m3\u001b[0m\u001b[1;33m,\u001b[0m \u001b[1;36m4\u001b[0m\u001b[1;33m,\u001b[0m \u001b[1;36m5\u001b[0m\u001b[1;33m]\u001b[0m\u001b[1;33m,\u001b[0m \u001b[1;36m3\u001b[0m\u001b[1;33m)\u001b[0m\u001b[1;33m\u001b[0m\u001b[1;33m\u001b[0m\u001b[0m\n\u001b[0m",
      "\u001b[1;32m<ipython-input-446-9b14145dfd18>\u001b[0m in \u001b[0;36mmedianSlidingWindow\u001b[1;34m(nums, k)\u001b[0m\n\u001b[0;32m      6\u001b[0m         \u001b[0mret\u001b[0m \u001b[1;33m=\u001b[0m \u001b[1;33m[\u001b[0m\u001b[1;33m]\u001b[0m\u001b[1;33m\u001b[0m\u001b[1;33m\u001b[0m\u001b[0m\n\u001b[0;32m      7\u001b[0m         \u001b[0mdh\u001b[0m \u001b[1;33m=\u001b[0m \u001b[0mDualHeap\u001b[0m\u001b[1;33m(\u001b[0m\u001b[1;33m)\u001b[0m\u001b[1;33m\u001b[0m\u001b[1;33m\u001b[0m\u001b[0m\n\u001b[1;32m----> 8\u001b[1;33m         \u001b[1;32mfor\u001b[0m \u001b[0mi\u001b[0m \u001b[1;32min\u001b[0m \u001b[0mxrange\u001b[0m\u001b[1;33m(\u001b[0m\u001b[0mk\u001b[0m\u001b[1;33m)\u001b[0m\u001b[1;33m:\u001b[0m\u001b[1;33m\u001b[0m\u001b[1;33m\u001b[0m\u001b[0m\n\u001b[0m\u001b[0;32m      9\u001b[0m             \u001b[0mdh\u001b[0m\u001b[1;33m.\u001b[0m\u001b[0madd\u001b[0m\u001b[1;33m(\u001b[0m\u001b[0mnums\u001b[0m\u001b[1;33m[\u001b[0m\u001b[0mi\u001b[0m\u001b[1;33m]\u001b[0m\u001b[1;33m)\u001b[0m\u001b[1;33m\u001b[0m\u001b[1;33m\u001b[0m\u001b[0m\n\u001b[0;32m     10\u001b[0m         \u001b[0mret\u001b[0m\u001b[1;33m.\u001b[0m\u001b[0mappend\u001b[0m\u001b[1;33m(\u001b[0m\u001b[0mdh\u001b[0m\u001b[1;33m.\u001b[0m\u001b[0mmedian\u001b[0m\u001b[1;33m(\u001b[0m\u001b[1;33m)\u001b[0m\u001b[1;33m)\u001b[0m\u001b[1;33m\u001b[0m\u001b[1;33m\u001b[0m\u001b[0m\n",
      "\u001b[1;31mNameError\u001b[0m: name 'xrange' is not defined"
     ]
    }
   ],
   "source": [
    "medianSlidingWindow([1, 2, 3, 4, 5], 3)"
   ]
  },
  {
   "cell_type": "code",
   "execution_count": 452,
   "metadata": {},
   "outputs": [],
   "source": [
    "import bisect\n",
    "def medianSlidingWindow(nums, k):\n",
    "    if k == 0: return []\n",
    "    ans = []\n",
    "    window = sorted(nums[0:k])\n",
    "    for i in range(k, len(nums) + 1):\n",
    "      ans.append((window[k // 2] + window[(k - 1) // 2]) / 2.0)\n",
    "      if i == len(nums): break\n",
    "      index = bisect.bisect_left(window, nums[i - k])\n",
    "      window.pop(index)      \n",
    "      bisect.insort_left(window, nums[i])\n",
    "    return ans"
   ]
  },
  {
   "cell_type": "code",
   "execution_count": 467,
   "metadata": {},
   "outputs": [
    {
     "name": "stdout",
     "output_type": "stream",
     "text": [
      "0.10968250000587432\n"
     ]
    }
   ],
   "source": [
    "\n",
    "medianSlidingWindow([1, 2, 3, 4, 5, 6], 4)"
   ]
  },
  {
   "cell_type": "code",
   "execution_count": 455,
   "metadata": {},
   "outputs": [],
   "source": [
    "from collections import defaultdict\n",
    "def genLists(lst, d):\n",
    "    x = defaultdict(list)\n",
    "    for idx, _ in enumerate(lst[:-(d)]):\n",
    "        x[idx] = lst[idx: idx + d]\n",
    "    return x"
   ]
  },
  {
   "cell_type": "code",
   "execution_count": 465,
   "metadata": {},
   "outputs": [],
   "source": [
    "# from statistics import median\n",
    "def alerts(distances, d):\n",
    "    notifications = 0\n",
    "    medians = medianSlidingWindow(distances, d)\n",
    "    for idx, distance in enumerate(distances[d:]):\n",
    "        med = medians[idx]\n",
    "        if distance >= 2 * med:\n",
    "            notifications += 1\n",
    "    return notifications"
   ]
  },
  {
   "cell_type": "code",
   "execution_count": 466,
   "metadata": {},
   "outputs": [
    {
     "name": "stdout",
     "output_type": "stream",
     "text": [
      "0.01610699999582721\n"
     ]
    }
   ],
   "source": [
    "time(alerts([1,2,3,4,5,6], 4))"
   ]
  },
  {
   "cell_type": "code",
   "execution_count": null,
   "metadata": {},
   "outputs": [],
   "source": []
  }
 ],
 "metadata": {
  "kernelspec": {
   "display_name": "Python 3",
   "language": "python",
   "name": "python3"
  },
  "language_info": {
   "codemirror_mode": {
    "name": "ipython",
    "version": 3
   },
   "file_extension": ".py",
   "mimetype": "text/x-python",
   "name": "python",
   "nbconvert_exporter": "python",
   "pygments_lexer": "ipython3",
   "version": "3.7.3"
  }
 },
 "nbformat": 4,
 "nbformat_minor": 2
}
