{
 "cells": [
  {
   "cell_type": "code",
   "execution_count": 1,
   "metadata": {},
   "outputs": [],
   "source": [
    "# bracelet challenge"
   ]
  },
  {
   "cell_type": "code",
   "execution_count": 101,
   "metadata": {},
   "outputs": [],
   "source": [
    "from itertools import *\n",
    "def alerts2(distances, d):\n",
    "    notifications = 0\n",
    "    if d % 2 == 0:\n",
    "        for (idx, distance) in enumerate(islice(distances, d, len(distances))):\n",
    "            idx_1 = int((idx + d) - d / 2) \n",
    "            idx_2 = idx_1 - 1\n",
    "            med = (distances[idx_1]  + distances[idx_2]) / 2\n",
    "            print(med)\n",
    "            if distance >= 2 * med:\n",
    "                notifications += 1\n",
    "    else:\n",
    "          for (idx, distance) in enumerate(islice(distances, d, len(distances))):\n",
    "            med_idx = int((idx + d) - d / 2) \n",
    "            med = distances[med_idx] \n",
    "            print(med)\n",
    "            if distance >= 2 * med:\n",
    "                notifications += 1\n",
    "    print(notifications)\n",
    "    return notifications"
   ]
  },
  {
   "cell_type": "code",
   "execution_count": 204,
   "metadata": {},
   "outputs": [],
   "source": [
    "from statistics import median\n",
    "from sortedcontainers import SortedList\n",
    "def alerts(distances, d):\n",
    "    notifications = 0\n",
    "    trailing_list = deque(SortedList(distances[:d]))\n",
    "    for distance in distances[d:]:\n",
    "        med = median(trailing_list)\n",
    "        if distance >= 2 * med:\n",
    "            notifications += 1\n",
    "        trailing_list.append(distance)\n",
    "        trailing_list.popleft()\n",
    "    return notifications"
   ]
  },
  {
   "cell_type": "code",
   "execution_count": 205,
   "metadata": {},
   "outputs": [
    {
     "name": "stdout",
     "output_type": "stream",
     "text": [
      "2\n",
      "3\n",
      "4\n",
      "5\n",
      "6\n",
      "7\n",
      "3\n",
      "0.017039700000168523\n"
     ]
    }
   ],
   "source": [
    "time(alerts2([1, 2, 3,  4, 5, 6,7, 25, 45], 3))"
   ]
  },
  {
   "cell_type": "code",
   "execution_count": 168,
   "metadata": {},
   "outputs": [
    {
     "name": "stdout",
     "output_type": "stream",
     "text": [
      "2\n",
      "3\n",
      "4\n",
      "5\n",
      "6\n",
      "2\n",
      "0.018410300000141433\n"
     ]
    }
   ],
   "source": [
    "time(alerts([1, 2, 3,  4, 5, 6,7, 25, 45], 3))"
   ]
  },
  {
   "cell_type": "code",
   "execution_count": 98,
   "metadata": {},
   "outputs": [],
   "source": [
    "from timeit import timeit\n",
    "def time(stmt):\n",
    "    print(timeit(stmt = f'{stmt}', globals=globals(), number=1000000))"
   ]
  },
  {
   "cell_type": "code",
   "execution_count": 199,
   "metadata": {},
   "outputs": [],
   "source": [
    "a = SortedList([])\n",
    "a.add(3)\n",
    "a.add(8)\n",
    "a.add(1)\n",
    "a.remove(3)\n",
    "# a.pop()\n",
    "a\n",
    "from sortedcontainers import SortedList\n",
    "def alerts3(distances, d):\n",
    "    notifications = 0\n",
    "    sorted_list = SortedList(islice(distances, d)) \n",
    "    if d % 2 == 0:\n",
    "        med_idx_1 = int(d / 2) - 1\n",
    "        med_idx_2 = med_idx_1 + 1\n",
    "        for (idx, distance) in enumerate(islice(distances, d, len(distances) - 1)):\n",
    "            med = (sorted_list[med_idx_1] + sorted_list[med_idx_2]) / 2\n",
    "            if distance >= 2 * med:\n",
    "                notifications += 1\n",
    "            sorted_list.add(distance)   \n",
    "            sorted_list.remove(distances[idx])\n",
    "    else:\n",
    "        med_idx = int(d / 2)\n",
    "        for (idx, distance) in enumerate(islice(distances, d, len(distances) - 1)):  \n",
    "            med = sorted_list[med_idx] \n",
    "            if distance >= 2 * med:\n",
    "                notifications += 1\n",
    "            sorted_list.add(distance)   \n",
    "            sorted_list.remove(distances[idx])\n",
    "    print(notifications)\n",
    "    return notifications\n"
   ]
  },
  {
   "cell_type": "code",
   "execution_count": 202,
   "metadata": {},
   "outputs": [
    {
     "name": "stdout",
     "output_type": "stream",
     "text": [
      "0\n",
      "0.02089189999969676\n"
     ]
    }
   ],
   "source": [
    "# alerts3([1, 2, 3, 4, 5], 3)\n",
    "time(alerts3([1, 2, 3,  4, 5, 6, 1, 2, 3, 4,5 ,6, 1, 2, 3,  4, 5, 6, 1, 2, 3, 4,5 ,6, 1, 2, 3,  4, 5, 6, 1, 2, 3, 4,5 ,6, 1, 2, 3,  4, 5, 6, 1, 2, 3, 4,5 ,6], 9))"
   ]
  },
  {
   "cell_type": "code",
   "execution_count": 206,
   "metadata": {},
   "outputs": [
    {
     "name": "stdout",
     "output_type": "stream",
     "text": [
      "0.015771500000482774\n"
     ]
    }
   ],
   "source": [
    "time(alerts([1, 2, 3,  4, 5, 6, 1, 2, 3, 4,5 ,6, 1, 2, 3,  4, 5, 6, 1, 2, 3, 4,5 ,6, 1, 2, 3,  4, 5, 6, 1, 2, 3, 4,5 ,6, 1, 2, 3,  4, 5, 6, 1, 2, 3, 4,5 ,6], 9))"
   ]
  },
  {
   "cell_type": "code",
   "execution_count": 29,
   "metadata": {},
   "outputs": [],
   "source": [
    "def group(lst, d):\n",
    "    k_size = len(lst) - (d - 1)\n",
    "    k = [[] for _ in range(k_size)]  # [[], [], [], [], []]\n",
    "    for idx, item in enumerate(lst): # idx = 6, item = 7\n",
    "        for i in range(d): # i = 2\n",
    "            try:\n",
    "                ind = idx - i\n",
    "                if ind >= 0:\n",
    "                    k[idx - i].append(item)\n",
    "            except IndexError:\n",
    "                continue\n",
    "    return k"
   ]
  },
  {
   "cell_type": "code",
   "execution_count": 144,
   "metadata": {},
   "outputs": [
    {
     "data": {
      "text/plain": [
       "2"
      ]
     },
     "execution_count": 144,
     "metadata": {},
     "output_type": "execute_result"
    }
   ],
   "source": [
    "a = SortedList([1, 2, 3])\n",
    "k = int(3/2)\n",
    "a[k]"
   ]
  },
  {
   "cell_type": "code",
   "execution_count": 31,
   "metadata": {},
   "outputs": [],
   "source": [
    "def group2(lst, d):\n",
    "    k_size = len(lst) - (d - 1)\n",
    "    k = [[] for _ in range(k_size)]  # [[], [], [], [], []]\n",
    "    for idx, item in enumerate(lst): # idx = 6, item = 7\n",
    "        if idx == 0:\n",
    "            k[0].append(item)\n",
    "        elif idx == 1:\n",
    "            k[0].append(item)\n",
    "            k[1].append(item)\n",
    "        else:\n",
    "            for i in range(d): # i = 2\n",
    "                try:\n",
    "                    ind = idx - i\n",
    "                    if ind >= 0:\n",
    "                        k[ind].append(item)\n",
    "                except IndexError:\n",
    "                    print(idx, i)\n",
    "                    continue\n",
    "    return k"
   ]
  },
  {
   "cell_type": "code",
   "execution_count": 32,
   "metadata": {},
   "outputs": [
    {
     "name": "stdout",
     "output_type": "stream",
     "text": [
      "3 0\n",
      "4 0\n",
      "4 1\n",
      "5 0\n",
      "5 1\n",
      "5 2\n",
      "0.2323092000001452\n"
     ]
    }
   ],
   "source": [
    "time(group2([1, 2, 3, 4, 5, 6], 4))"
   ]
  },
  {
   "cell_type": "code",
   "execution_count": 33,
   "metadata": {},
   "outputs": [],
   "source": [
    "def activityAlerts(distances, d):\n",
    "    notifications = 0\n",
    "    groups = group(distances, d)\n",
    "    for idx, g in enumerate(groups):\n",
    "        med = median(g)\n",
    "        try:\n",
    "            dist = groups[idx + 1][-1]\n",
    "            if dist >= 2 * med:\n",
    "                notifications += 1\n",
    "        except IndexError:\n",
    "            pass\n",
    "    return notifications"
   ]
  },
  {
   "cell_type": "code",
   "execution_count": 34,
   "metadata": {},
   "outputs": [
    {
     "ename": "NameError",
     "evalue": "name 'median' is not defined",
     "output_type": "error",
     "traceback": [
      "\u001b[1;31m---------------------------------------------------------------------------\u001b[0m",
      "\u001b[1;31mNameError\u001b[0m                                 Traceback (most recent call last)",
      "\u001b[1;32m<ipython-input-34-fb20e45c961d>\u001b[0m in \u001b[0;36m<module>\u001b[1;34m\u001b[0m\n\u001b[1;32m----> 1\u001b[1;33m \u001b[0mactivityAlerts\u001b[0m\u001b[1;33m(\u001b[0m\u001b[1;33m[\u001b[0m\u001b[1;36m1\u001b[0m\u001b[1;33m,\u001b[0m \u001b[1;36m2\u001b[0m\u001b[1;33m,\u001b[0m \u001b[1;36m3\u001b[0m\u001b[1;33m,\u001b[0m \u001b[1;36m4\u001b[0m\u001b[1;33m,\u001b[0m \u001b[1;36m5\u001b[0m\u001b[1;33m,\u001b[0m \u001b[1;36m6\u001b[0m\u001b[1;33m]\u001b[0m\u001b[1;33m,\u001b[0m \u001b[1;36m4\u001b[0m\u001b[1;33m)\u001b[0m\u001b[1;33m\u001b[0m\u001b[1;33m\u001b[0m\u001b[0m\n\u001b[0m",
      "\u001b[1;32m<ipython-input-33-00bbadf3b040>\u001b[0m in \u001b[0;36mactivityAlerts\u001b[1;34m(distances, d)\u001b[0m\n\u001b[0;32m      3\u001b[0m     \u001b[0mgroups\u001b[0m \u001b[1;33m=\u001b[0m \u001b[0mgroup\u001b[0m\u001b[1;33m(\u001b[0m\u001b[0mdistances\u001b[0m\u001b[1;33m,\u001b[0m \u001b[0md\u001b[0m\u001b[1;33m)\u001b[0m\u001b[1;33m\u001b[0m\u001b[1;33m\u001b[0m\u001b[0m\n\u001b[0;32m      4\u001b[0m     \u001b[1;32mfor\u001b[0m \u001b[0midx\u001b[0m\u001b[1;33m,\u001b[0m \u001b[0mg\u001b[0m \u001b[1;32min\u001b[0m \u001b[0menumerate\u001b[0m\u001b[1;33m(\u001b[0m\u001b[0mgroups\u001b[0m\u001b[1;33m)\u001b[0m\u001b[1;33m:\u001b[0m\u001b[1;33m\u001b[0m\u001b[1;33m\u001b[0m\u001b[0m\n\u001b[1;32m----> 5\u001b[1;33m         \u001b[0mmed\u001b[0m \u001b[1;33m=\u001b[0m \u001b[0mmedian\u001b[0m\u001b[1;33m(\u001b[0m\u001b[0mg\u001b[0m\u001b[1;33m)\u001b[0m\u001b[1;33m\u001b[0m\u001b[1;33m\u001b[0m\u001b[0m\n\u001b[0m\u001b[0;32m      6\u001b[0m         \u001b[1;32mtry\u001b[0m\u001b[1;33m:\u001b[0m\u001b[1;33m\u001b[0m\u001b[1;33m\u001b[0m\u001b[0m\n\u001b[0;32m      7\u001b[0m             \u001b[0mdist\u001b[0m \u001b[1;33m=\u001b[0m \u001b[0mgroups\u001b[0m\u001b[1;33m[\u001b[0m\u001b[0midx\u001b[0m \u001b[1;33m+\u001b[0m \u001b[1;36m1\u001b[0m\u001b[1;33m]\u001b[0m\u001b[1;33m[\u001b[0m\u001b[1;33m-\u001b[0m\u001b[1;36m1\u001b[0m\u001b[1;33m]\u001b[0m\u001b[1;33m\u001b[0m\u001b[1;33m\u001b[0m\u001b[0m\n",
      "\u001b[1;31mNameError\u001b[0m: name 'median' is not defined"
     ]
    }
   ],
   "source": [
    "activityAlerts([1, 2, 3, 4, 5, 6], 4)"
   ]
  },
  {
   "cell_type": "code",
   "execution_count": 35,
   "metadata": {},
   "outputs": [
    {
     "ename": "NameError",
     "evalue": "name 'median' is not defined",
     "output_type": "error",
     "traceback": [
      "\u001b[1;31m---------------------------------------------------------------------------\u001b[0m",
      "\u001b[1;31mNameError\u001b[0m                                 Traceback (most recent call last)",
      "\u001b[1;32m<ipython-input-35-0747584c1e75>\u001b[0m in \u001b[0;36m<module>\u001b[1;34m\u001b[0m\n\u001b[1;32m----> 1\u001b[1;33m \u001b[0mtime\u001b[0m\u001b[1;33m(\u001b[0m\u001b[0mactivityAlerts\u001b[0m\u001b[1;33m(\u001b[0m\u001b[1;33m[\u001b[0m\u001b[1;36m1\u001b[0m\u001b[1;33m,\u001b[0m \u001b[1;36m2\u001b[0m\u001b[1;33m,\u001b[0m \u001b[1;36m3\u001b[0m\u001b[1;33m,\u001b[0m \u001b[1;36m4\u001b[0m\u001b[1;33m,\u001b[0m \u001b[1;36m5\u001b[0m\u001b[1;33m,\u001b[0m \u001b[1;36m6\u001b[0m\u001b[1;33m]\u001b[0m\u001b[1;33m,\u001b[0m \u001b[1;36m4\u001b[0m\u001b[1;33m)\u001b[0m\u001b[1;33m)\u001b[0m\u001b[1;33m\u001b[0m\u001b[1;33m\u001b[0m\u001b[0m\n\u001b[0m",
      "\u001b[1;32m<ipython-input-33-00bbadf3b040>\u001b[0m in \u001b[0;36mactivityAlerts\u001b[1;34m(distances, d)\u001b[0m\n\u001b[0;32m      3\u001b[0m     \u001b[0mgroups\u001b[0m \u001b[1;33m=\u001b[0m \u001b[0mgroup\u001b[0m\u001b[1;33m(\u001b[0m\u001b[0mdistances\u001b[0m\u001b[1;33m,\u001b[0m \u001b[0md\u001b[0m\u001b[1;33m)\u001b[0m\u001b[1;33m\u001b[0m\u001b[1;33m\u001b[0m\u001b[0m\n\u001b[0;32m      4\u001b[0m     \u001b[1;32mfor\u001b[0m \u001b[0midx\u001b[0m\u001b[1;33m,\u001b[0m \u001b[0mg\u001b[0m \u001b[1;32min\u001b[0m \u001b[0menumerate\u001b[0m\u001b[1;33m(\u001b[0m\u001b[0mgroups\u001b[0m\u001b[1;33m)\u001b[0m\u001b[1;33m:\u001b[0m\u001b[1;33m\u001b[0m\u001b[1;33m\u001b[0m\u001b[0m\n\u001b[1;32m----> 5\u001b[1;33m         \u001b[0mmed\u001b[0m \u001b[1;33m=\u001b[0m \u001b[0mmedian\u001b[0m\u001b[1;33m(\u001b[0m\u001b[0mg\u001b[0m\u001b[1;33m)\u001b[0m\u001b[1;33m\u001b[0m\u001b[1;33m\u001b[0m\u001b[0m\n\u001b[0m\u001b[0;32m      6\u001b[0m         \u001b[1;32mtry\u001b[0m\u001b[1;33m:\u001b[0m\u001b[1;33m\u001b[0m\u001b[1;33m\u001b[0m\u001b[0m\n\u001b[0;32m      7\u001b[0m             \u001b[0mdist\u001b[0m \u001b[1;33m=\u001b[0m \u001b[0mgroups\u001b[0m\u001b[1;33m[\u001b[0m\u001b[0midx\u001b[0m \u001b[1;33m+\u001b[0m \u001b[1;36m1\u001b[0m\u001b[1;33m]\u001b[0m\u001b[1;33m[\u001b[0m\u001b[1;33m-\u001b[0m\u001b[1;36m1\u001b[0m\u001b[1;33m]\u001b[0m\u001b[1;33m\u001b[0m\u001b[1;33m\u001b[0m\u001b[0m\n",
      "\u001b[1;31mNameError\u001b[0m: name 'median' is not defined"
     ]
    }
   ],
   "source": [
    "time(activityAlerts([1, 2, 3, 4, 5, 6], 4))"
   ]
  },
  {
   "cell_type": "code",
   "execution_count": 36,
   "metadata": {},
   "outputs": [
    {
     "name": "stdout",
     "output_type": "stream",
     "text": [
      "0.013036599999850296\n"
     ]
    }
   ],
   "source": [
    "time(alerts([1, 2, 3, 4, 5, 6, 10, 18], 3))"
   ]
  },
  {
   "cell_type": "code",
   "execution_count": 506,
   "metadata": {},
   "outputs": [
    {
     "name": "stdout",
     "output_type": "stream",
     "text": [
      "1\n",
      "1.5\n",
      "2\n",
      "2.5\n",
      "3\n",
      "3.5\n"
     ]
    }
   ],
   "source": [
    "running_median = RunningMedian()\n",
    "g = group([1, 2, 3, 4, 5, 6], 4)\n",
    "for n in (1, 2, 3, 4, 5, 6):\n",
    "    running_median.add_number(n)\n",
    "    print(running_median.get_median())"
   ]
  },
  {
   "cell_type": "code",
   "execution_count": 417,
   "metadata": {},
   "outputs": [],
   "source": [
    "def medi(n_num):\n",
    "    n = len(n_num) \n",
    "    n_num.sort() \n",
    "\n",
    "    if n % 2 == 0: \n",
    "        median1 = n_num[n//2] \n",
    "        median2 = n_num[n//2 - 1] \n",
    "        median = (median1 + median2)/2\n",
    "    else: \n",
    "        median = n_num[n//2] \n",
    "    return median"
   ]
  },
  {
   "cell_type": "code",
   "execution_count": 437,
   "metadata": {},
   "outputs": [],
   "source": [
    "def median(lst):\n",
    "    n = len(lst)\n",
    "    s = lst\n",
    "    return (sum(s[n//2-1:n//2+1])/2.0, s[n//2])[n % 2] if n else None"
   ]
  }
 ],
 "metadata": {
  "kernelspec": {
   "display_name": "Python 3",
   "language": "python",
   "name": "python3"
  },
  "language_info": {
   "codemirror_mode": {
    "name": "ipython",
    "version": 3
   },
   "file_extension": ".py",
   "mimetype": "text/x-python",
   "name": "python",
   "nbconvert_exporter": "python",
   "pygments_lexer": "ipython3",
   "version": "3.7.3"
  }
 },
 "nbformat": 4,
 "nbformat_minor": 2
}
