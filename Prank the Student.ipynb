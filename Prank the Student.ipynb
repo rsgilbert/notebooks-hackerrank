{
 "cells": [
  {
   "cell_type": "code",
   "execution_count": 1,
   "metadata": {},
   "outputs": [],
   "source": [
    "# Prank the Student - hackerrank"
   ]
  },
  {
   "cell_type": "code",
   "execution_count": 54,
   "metadata": {},
   "outputs": [],
   "source": [
    "# Correct !!\n",
    "def prankTheStudent(chairs, treats, start): # n - chairs, m - treats, s - start\n",
    "    start = start - 1\n",
    "    treats = treats - 1\n",
    "    idx = treats % chairs\n",
    "    idx2 = (idx + start) % chairs\n",
    "    idx2 = idx2 + 1 \n",
    "    return idx2\n"
   ]
  },
  {
   "cell_type": "code",
   "execution_count": 58,
   "metadata": {},
   "outputs": [
    {
     "data": {
      "text/plain": [
       "1"
      ]
     },
     "execution_count": 58,
     "metadata": {},
     "output_type": "execute_result"
    }
   ],
   "source": [
    "prankTheStudent(7, 14, 2) # DONE"
   ]
  },
  {
   "cell_type": "code",
   "execution_count": 51,
   "metadata": {},
   "outputs": [
    {
     "data": {
      "text/plain": [
       "13"
      ]
     },
     "execution_count": 51,
     "metadata": {},
     "output_type": "execute_result"
    }
   ],
   "source": [
    "#treat - #chair\n",
    "1 - 2\n",
    "2 - 3\n",
    "3 - 4\n",
    "4 - 5\n",
    "5 - 6\n",
    "6 - 7\n",
    "7 - 1\n",
    "8 - 2\n",
    "9 - 3\n",
    "10 - 4\n",
    "11 - 5\n",
    "12 - 6\n",
    "13 - 7\n",
    "14 - 1\n",
    "15 - 2\n",
    "16 - 3"
   ]
  },
  {
   "cell_type": "code",
   "execution_count": null,
   "metadata": {},
   "outputs": [],
   "source": [
    "5 15 3\n",
    "# chair - treat\n",
    "# start \n",
    "3 - 1\n",
    "4 - 2\n",
    "5 - 3\n",
    "6 - 4\n",
    "1 - 5\n",
    "2 - 6\n",
    "3 - 7\n",
    "4 - 8\n",
    "1 - 9\n",
    "2 - 10\n",
    "3 - 11\n",
    "4 - 12\n",
    "1 - 13\n",
    "2 - 14\n",
    "3 - 15"
   ]
  },
  {
   "cell_type": "code",
   "execution_count": 38,
   "metadata": {},
   "outputs": [
    {
     "data": {
      "text/plain": [
       "5"
      ]
     },
     "execution_count": 38,
     "metadata": {},
     "output_type": "execute_result"
    }
   ],
   "source": [
    "treats = 15\n",
    "chairs = 7\n",
    "(((treats % chairs) + 1) + start ) % chairs + 1"
   ]
  },
  {
   "cell_type": "code",
   "execution_count": 41,
   "metadata": {},
   "outputs": [
    {
     "data": {
      "text/plain": [
       "1"
      ]
     },
     "execution_count": 41,
     "metadata": {},
     "output_type": "execute_result"
    }
   ],
   "source": [
    "4 % 2 + 1"
   ]
  },
  {
   "cell_type": "code",
   "execution_count": null,
   "metadata": {},
   "outputs": [],
   "source": [
    "1 1\n",
    "2 2\n",
    "3 1\n",
    "4 2\n",
    "5 1"
   ]
  }
 ],
 "metadata": {
  "kernelspec": {
   "display_name": "Python 3",
   "language": "python",
   "name": "python3"
  },
  "language_info": {
   "codemirror_mode": {
    "name": "ipython",
    "version": 3
   },
   "file_extension": ".py",
   "mimetype": "text/x-python",
   "name": "python",
   "nbconvert_exporter": "python",
   "pygments_lexer": "ipython3",
   "version": "3.7.3"
  }
 },
 "nbformat": 4,
 "nbformat_minor": 2
}
