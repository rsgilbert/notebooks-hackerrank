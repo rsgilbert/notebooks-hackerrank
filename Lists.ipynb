{
 "cells": [
  {
   "cell_type": "code",
   "execution_count": 5,
   "metadata": {},
   "outputs": [],
   "source": [
    "# More on lists"
   ]
  },
  {
   "cell_type": "markdown",
   "metadata": {},
   "source": [
    "You can access an item in a list by its index. "
   ]
  },
  {
   "cell_type": "code",
   "execution_count": 16,
   "metadata": {},
   "outputs": [
    {
     "name": "stdout",
     "output_type": "stream",
     "text": [
      "Item at index 0 is 10\n"
     ]
    }
   ],
   "source": [
    "l = [10, 2, 3]\n",
    "first_item = l[0] # Indexes start at 0\n",
    "second_item = l[1]\n",
    "print(f\"Item at index 0 is {first_item}\") # Use f\"..\" to put placeholders ({}) in a string"
   ]
  },
  {
   "cell_type": "code",
   "execution_count": 17,
   "metadata": {},
   "outputs": [
    {
     "name": "stdout",
     "output_type": "stream",
     "text": [
      "Last item is 3\n"
     ]
    }
   ],
   "source": [
    "# You can access items from the last item backwards starting with -1\n",
    "last_item = l[-1]\n",
    "print(f\"Last item is {last_item}\") # Last item"
   ]
  },
  {
   "cell_type": "markdown",
   "metadata": {},
   "source": [
    "Your task is to find the sum of the second last items in these lists\n",
    "\n",
    "list_1 = [1, 2, 5]\n",
    "\n",
    "list_2 = [100, 8]\n",
    "\n",
    "list_3 = [2, 0, 0, 20, 3]\n",
    "\n",
    "Your sum should be 122"
   ]
  },
  {
   "cell_type": "code",
   "execution_count": null,
   "metadata": {},
   "outputs": [],
   "source": []
  }
 ],
 "metadata": {
  "kernelspec": {
   "display_name": "Python 3",
   "language": "python",
   "name": "python3"
  },
  "language_info": {
   "codemirror_mode": {
    "name": "ipython",
    "version": 3
   },
   "file_extension": ".py",
   "mimetype": "text/x-python",
   "name": "python",
   "nbconvert_exporter": "python",
   "pygments_lexer": "ipython3",
   "version": "3.7.3"
  }
 },
 "nbformat": 4,
 "nbformat_minor": 2
}
